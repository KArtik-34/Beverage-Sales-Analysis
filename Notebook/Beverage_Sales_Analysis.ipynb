{
  "cells": [
    {
      "cell_type": "markdown",
      "metadata": {
        "id": "view-in-github",
        "colab_type": "text"
      },
      "source": [
        "<a href=\"https://colab.research.google.com/github/KArtik-34/Beverage-Sales-Analysis/blob/main/Notebook/Beverage_Sales_Analysis.ipynb\" target=\"_parent\"><img src=\"https://colab.research.google.com/assets/colab-badge.svg\" alt=\"Open In Colab\"/></a>"
      ]
    },
    {
      "cell_type": "markdown",
      "metadata": {
        "id": "yoAUSDiB72MY"
      },
      "source": [
        "#**1️⃣ Introduction**\n",
        "\n",
        "\n",
        "---\n",
        "\n",
        "\n",
        "\n",
        "#**Problem Statement:**\n",
        "**The goal of this analysis is to uncover key insights into beverage sales trends, including:**\n",
        "\n",
        "* Top-performing regions and products\n",
        "* Impact of discounts on sales\n",
        "* Price elasticity and consumer behavior\n",
        "* Category-wise sales distribution\n",
        "* Yearly and quarterly trends for forecasting\n",
        "* Most Selling Product\n",
        "* Region-Wise Sales"
      ]
    },
    {
      "cell_type": "code",
      "execution_count": null,
      "metadata": {
        "id": "IeuiDant1aue"
      },
      "outputs": [],
      "source": [
        "from google.colab import drive\n",
        "drive.mount('/content/drive')"
      ]
    },
    {
      "cell_type": "markdown",
      "metadata": {
        "id": "5f90o9df8sT4"
      },
      "source": [
        "#**2️⃣ Importing Required Libraries**\n",
        "\n",
        "\n"
      ]
    },
    {
      "cell_type": "code",
      "execution_count": null,
      "metadata": {
        "id": "bZk2gXbWpAEg"
      },
      "outputs": [],
      "source": [
        "import pandas as pd\n",
        "import numpy as np\n",
        "import matplotlib.pyplot as plt\n",
        "import seaborn as sns\n",
        "import sklearn as sk"
      ]
    },
    {
      "cell_type": "markdown",
      "metadata": {
        "id": "EUpIE8ff9BhQ"
      },
      "source": [
        "#**3️⃣ Loading the Dataset**"
      ]
    },
    {
      "cell_type": "code",
      "execution_count": null,
      "metadata": {
        "id": "NgZaxUT-pasf"
      },
      "outputs": [],
      "source": [
        "df = pd.read_csv(\"/content/drive/MyDrive/Beverage Sales Data/beverage_sales_data.csv\")\n",
        "df['Order_Date'] = pd.to_datetime(df['Order_Date'])"
      ]
    },
    {
      "cell_type": "code",
      "execution_count": null,
      "metadata": {
        "id": "5-mij06fqDBf"
      },
      "outputs": [],
      "source": [
        "df.head()\n"
      ]
    },
    {
      "cell_type": "code",
      "execution_count": null,
      "metadata": {
        "id": "EER5qd9BqOYr"
      },
      "outputs": [],
      "source": [
        "df.describe()"
      ]
    },
    {
      "cell_type": "markdown",
      "metadata": {
        "id": "2IyrY--W70rv"
      },
      "source": [
        "#**4️⃣ Data Preprocessing**"
      ]
    },
    {
      "cell_type": "code",
      "execution_count": null,
      "metadata": {
        "id": "Dyur9sXAqbZf"
      },
      "outputs": [],
      "source": [
        "print(df.isnull())"
      ]
    },
    {
      "cell_type": "code",
      "execution_count": null,
      "metadata": {
        "id": "FxU0ZBBcw1N8"
      },
      "outputs": [],
      "source": [
        "plt.figure(figsize=(12,6))\n",
        "sns.histplot(df['Total_Price'], bins=20, kde=True, color='skyblue')\n",
        "plt.title('Distribution of Total Sales')\n",
        "plt.xlabel('Total Sales')\n",
        "plt.ylabel('Frequency')\n",
        "plt.show()\n",
        "\n",
        "plt.figure(figsize=(12, 6))\n",
        "sns.histplot(df['Unit_Price'], kde=True, color='teal')\n",
        "plt.title('Distribution of Unit Prices')\n",
        "plt.xlabel('Unit Price')\n",
        "plt.ylabel('Frequency')\n",
        "plt.show()"
      ]
    },
    {
      "cell_type": "markdown",
      "metadata": {
        "id": "6lpWWA9XDfKk"
      },
      "source": [
        "**The Graph is Highly Skewed**\n",
        "\n",
        "\n",
        "> Low Tickets products are selled at higher volume\n",
        "\n",
        "\n",
        "> higher priced units have low volume sales\n",
        "\n",
        "\n",
        "\n"
      ]
    },
    {
      "cell_type": "code",
      "execution_count": null,
      "metadata": {
        "id": "PP2vvL9JEHiN"
      },
      "outputs": [],
      "source": [
        "plt.figure(figsize=(12, 6))\n",
        "sns.boxplot(x=df['Total_Price'], color='skyblue')\n",
        "plt.title('Box Plot of Total Sales')\n",
        "plt.xlabel('Total Sales')\n",
        "plt.show()\n"
      ]
    },
    {
      "cell_type": "markdown",
      "metadata": {
        "id": "L--jiBp6G0tn"
      },
      "source": []
    },
    {
      "cell_type": "code",
      "execution_count": null,
      "metadata": {
        "id": "IgaznhlLEt8c"
      },
      "outputs": [],
      "source": [
        "threshold = df['Total_Price'].quantile(0.99)\n",
        "outliers = df[df['Total_Price'] > threshold]\n",
        "\n",
        "print(\"Top 1% Sales values: \")\n",
        "print(outliers[[\"Product\", \"Total_Price\", \"Region\" ]])\n"
      ]
    },
    {
      "cell_type": "code",
      "execution_count": null,
      "metadata": {
        "id": "XzT52o9Mq2ds"
      },
      "outputs": [],
      "source": [
        "df.groupby(\"Product\")[\"Total_Price\"].mean().sort_values(ascending=False).head(10)"
      ]
    },
    {
      "cell_type": "markdown",
      "metadata": {
        "id": "mLoAxnQbIzQq"
      },
      "source": [
        "**Premium Alcohol Brands Dominates the sale**\n",
        "\n",
        "  ***The most expensive sales involve high-end alcoholic beverages like:***\n",
        "*  Veuve Clicquot (Champagne)\n",
        "*  Moët & Chandon (Champagne)\n",
        "*  Johnnie Walker (Whisky)\n",
        "*  Jack Daniels (Whisky)\n",
        "*  Tanqueray (Gin)\n",
        "*  Bacardi (Rum)\n",
        "\n"
      ]
    },
    {
      "cell_type": "code",
      "execution_count": null,
      "metadata": {
        "id": "ssdWukvorNkN"
      },
      "outputs": [],
      "source": [
        "region_total_sales = df.groupby(\"Region\")[\"Total_Price\"].sum().sort_values(ascending=False)\n",
        "\n",
        "plt.figure(figsize=(12, 6))\n",
        "ax = region_total_sales.plot(kind='bar', color='teal', edgecolor='black')\n",
        "plt.title('Total Sales by Region')\n",
        "plt.xlabel('Region')\n",
        "plt.ylabel('Total Sales')\n",
        "plt.xticks(rotation=45)\n",
        "plt.tight_layout()\n",
        "plt.show()"
      ]
    },
    {
      "cell_type": "markdown",
      "metadata": {
        "id": "6hd74LSMCEWT"
      },
      "source": []
    },
    {
      "cell_type": "code",
      "execution_count": null,
      "metadata": {
        "id": "idrhlMWuGRDU"
      },
      "outputs": [],
      "source": [
        "Region_Sales = df.groupby('Region')['Total_Price'].sum().sort_values(ascending = False)\n",
        "print(Region_Sales.head(10))"
      ]
    },
    {
      "cell_type": "markdown",
      "metadata": {
        "id": "lv3rX594KROA"
      },
      "source": []
    },
    {
      "cell_type": "code",
      "execution_count": null,
      "metadata": {
        "id": "HL8isId2G5Th"
      },
      "outputs": [],
      "source": [
        "df.groupby(\"Region\")[\"Total_Price\"].count().sort_values(ascending=False).head(10)"
      ]
    },
    {
      "cell_type": "code",
      "execution_count": null,
      "metadata": {
        "id": "NdVRxuG04YIE"
      },
      "outputs": [],
      "source": [
        "saarland_data = df[(df['Category'] == 'Alcoholic Beverages') & (df['Region'] == 'Saarland')]"
      ]
    },
    {
      "cell_type": "code",
      "execution_count": null,
      "metadata": {
        "id": "pWCBwgg85GMO"
      },
      "outputs": [],
      "source": [
        "saarland_avg_sales = saarland_data.groupby('Product')['Total_Price'].mean().sort_values(ascending=False)\n",
        "print(\"Average Sale Value per Product in Saarland:\")\n",
        "print(saarland_avg_sales)"
      ]
    },
    {
      "cell_type": "code",
      "execution_count": null,
      "metadata": {
        "id": "MMHveETo5Pgs"
      },
      "outputs": [],
      "source": [
        "import matplotlib.pyplot as plt\n",
        "import matplotlib.ticker as ticker\n",
        "\n",
        "plt.figure(figsize=(12,6))\n",
        "ax = saarland_avg_sales.plot(kind='bar', color='goldenrod', edgecolor='black')\n",
        "plt.title('Average Sale Value per Alcohol Product in Saarland')\n",
        "plt.xlabel('Alcohol Product')\n",
        "plt.ylabel('Average Sale Value')\n",
        "plt.xticks(rotation=45)\n",
        "plt.tight_layout()\n",
        "plt.show()\n"
      ]
    },
    {
      "cell_type": "code",
      "execution_count": null,
      "metadata": {
        "id": "t6FtqB8p7KUn"
      },
      "outputs": [],
      "source": [
        "# Grouping by Region and Product to see total sales per product per region\n",
        "region_product_sales = df.groupby([\"Region\", \"Product\"])[\"Total_Price\"].sum().unstack().fillna(0)\n",
        "\n",
        "# Focusing on premium products\n",
        "premium_brands = [\"Veuve Clicquot\", \"Moët & Chandon\", \"Johnnie Walker\", \"Jack Daniels\", \"Tanqueray\"]\n",
        "premium_sales = region_product_sales[premium_brands]\n",
        "\n",
        "# Sorting by total sales for premium products\n",
        "premium_sales[\"Total_Premium_Sales\"] = premium_sales.sum(axis=1)\n",
        "premium_sales = premium_sales.sort_values(\"Total_Premium_Sales\", ascending=False)\n",
        "\n",
        "# Display the top regions\n",
        "premium_sales.head(10)\n"
      ]
    },
    {
      "cell_type": "code",
      "execution_count": null,
      "metadata": {
        "id": "RHSCIFWYh2PQ"
      },
      "outputs": [],
      "source": [
        "b2b_b2c_sales = df.groupby('Customer_Type')['Total_Price'].sum().reset_index()\n",
        "\n",
        "b2b_b2c_transactions = df.groupby('Customer_Type')['Order_ID'].nunique().reset_index()\n",
        "b2b_b2c_transactions.rename(columns={'Order_ID': 'Transactions'}, inplace=True)\n",
        "\n",
        "\n",
        "plt.figure(figsize=(8,5))\n",
        "sns.barplot(data=b2b_b2c_sales, x=\"Customer_Type\", y=\"Total_Price\", palette=\"viridis\")\n",
        "plt.xlabel(\"Customer Type\")\n",
        "plt.ylabel(\"Total Sales (€)\")\n",
        "plt.title(\"Total Sales by Customer Type (B2B vs B2C)\")\n",
        "plt.gca().yaxis.set_major_formatter(plt.matplotlib.ticker.StrMethodFormatter('{x:,.0f}'))\n",
        "plt.grid(True, axis='y', linestyle='--', alpha=0.7)\n",
        "plt.tight_layout()\n",
        "plt.show()\n",
        "\n",
        "plt.figure(figsize=(8,5))\n",
        "sns.barplot(data=b2b_b2c_transactions, x=\"Customer_Type\", y=\"Transactions\", palette=\"viridis\")\n",
        "plt.xlabel(\"Customer Type\")\n",
        "plt.ylabel(\"Number of Transactions\")\n",
        "plt.title(\"Transactions by Customer Type (B2B vs B2C)\")\n",
        "plt.gca().yaxis.set_major_formatter(plt.matplotlib.ticker.StrMethodFormatter('{x:,.0f}'))\n",
        "plt.grid(True, axis='y', linestyle='--', alpha=0.7)\n",
        "plt.tight_layout()\n",
        "plt.show()\n"
      ]
    },
    {
      "cell_type": "code",
      "execution_count": null,
      "metadata": {
        "id": "Y4wIqDm3CjGL"
      },
      "outputs": [],
      "source": [
        "plt.figure(figsize=(8,5))\n",
        "\n",
        "sns.histplot(df[\"Discount\"], bins = 20 , kde =True)\n",
        "plt.title(\"Distribution of Discount\")\n",
        "plt.xlabel(\"Discount % \")\n",
        "plt.ylabel(\"Frequency\")\n",
        "plt.show()"
      ]
    },
    {
      "cell_type": "code",
      "execution_count": null,
      "metadata": {
        "id": "8wU8POTQRKmR"
      },
      "outputs": [],
      "source": [
        "discount_impact = df.groupby(\"Discount\")[\"Total_Price\"].sum().reset_index()\n",
        "\n",
        "plt.figure(figsize=(10, 6))\n",
        "sns.lineplot(x='Discount', y='Total_Price', data=discount_impact, marker='o')\n",
        "plt.title(\"Total Sales Impact by Discount\")\n",
        "plt.xlabel(\"Discount %\")\n",
        "plt.ylabel(\"Total Sales\")\n",
        "plt.grid(True)\n",
        "plt.show()"
      ]
    },
    {
      "cell_type": "code",
      "execution_count": null,
      "metadata": {
        "id": "zA7kq8pQUJbf"
      },
      "outputs": [],
      "source": [
        "df.groupby(\"Discount\")[\"Product\"].nunique"
      ]
    },
    {
      "cell_type": "code",
      "execution_count": null,
      "metadata": {
        "id": "s6Pl9af1UX5_"
      },
      "outputs": [],
      "source": [
        "df.groupby('Discount')['Quantity'].sum()\n"
      ]
    },
    {
      "cell_type": "code",
      "execution_count": null,
      "metadata": {
        "id": "TLSW5cdLUd1C"
      },
      "outputs": [],
      "source": [
        "df[df['Discount'] == 0.15]['Category'].value_counts()\n"
      ]
    },
    {
      "cell_type": "code",
      "execution_count": null,
      "metadata": {
        "id": "NLXukV_vVDK2"
      },
      "outputs": [],
      "source": [
        "df[df['Discount'] == 0.15]['Category'].value_counts()\n"
      ]
    },
    {
      "cell_type": "code",
      "execution_count": null,
      "metadata": {
        "id": "zCdHXxYMWQ9I"
      },
      "outputs": [],
      "source": [
        "discount_vs_orders = df.groupby('Discount')['Order_ID'].nunique()\n",
        "\n",
        "plt.figure(figsize=(10, 5))\n",
        "plt.plot(discount_vs_orders.index, discount_vs_orders.values, marker=\"o\", linestyle=\"-\")\n",
        "plt.xlabel(\"Discount %\")\n",
        "plt.ylabel(\"Number of Transactions\")\n",
        "plt.title(\"Impact of Discount on Transactions\")\n",
        "plt.grid()\n",
        "plt.show()"
      ]
    },
    {
      "cell_type": "code",
      "execution_count": null,
      "metadata": {
        "id": "seP3E0wnaTkH"
      },
      "outputs": [],
      "source": [
        "discount_vs_transactions = df.groupby(\"Discount\")[\"Order_ID\"].count()\n",
        "\n",
        "plt.figure(figsize=(10, 5))\n",
        "plt.plot(discount_vs_transactions.index, discount_vs_transactions.values, marker='o', linestyle='-')\n",
        "plt.xlabel(\"Discount Level\")\n",
        "plt.ylabel(\"Number of Transactions (Products Purchased)\")\n",
        "plt.title(\"Discount vs Transactions (Product Level)\")\n",
        "plt.grid(True)\n",
        "plt.show()\n"
      ]
    },
    {
      "cell_type": "code",
      "execution_count": null,
      "metadata": {
        "id": "EoDw8fKLfLZ2"
      },
      "outputs": [],
      "source": [
        "print(df.groupby(\"Category\")[\"Discount\"].nunique())\n",
        "\n"
      ]
    },
    {
      "cell_type": "code",
      "execution_count": null,
      "metadata": {
        "id": "b2pdoqmmgwZ8"
      },
      "outputs": [],
      "source": [
        "category_discount = df.groupby([\"Discount\", \"Category\"]).size().reset_index(name=\"Transactions\")\n",
        "\n",
        "# Step 2: Identify unique categories and create a small offset for each category.\n",
        "unique_categories = category_discount[\"Category\"].unique()\n",
        "# Since there are only 4 unique discount values, we use a very small offset.\n",
        "offsets = np.linspace(-0.005, 0.005, num=len(unique_categories))\n",
        "\n",
        "# Step 3: Plot each category with a slight x-axis offset.\n",
        "plt.figure(figsize=(10, 6))\n",
        "\n",
        "for idx, category in enumerate(unique_categories):\n",
        "    data = category_discount[category_discount[\"Category\"] == category]\n",
        "    # Apply a small offset to the discount values so that the lines don't overlap exactly.\n",
        "    plt.plot(data[\"Discount\"] + offsets[idx], data[\"Transactions\"], marker='o',\n",
        "             linestyle='-', label=category)\n",
        "\n",
        "plt.xlabel(\"Discount Level\")\n",
        "plt.ylabel(\"Number of Transactions\")\n",
        "plt.title(\"Discount vs Transactions by Category (with X-axis Offset)\")\n",
        "plt.legend(title=\"Category\")\n",
        "plt.grid(True)\n",
        "plt.show()"
      ]
    },
    {
      "cell_type": "code",
      "execution_count": null,
      "metadata": {
        "id": "4UdhHNWcjpMb"
      },
      "outputs": [],
      "source": [
        "category_discount = df.groupby([\"Discount\", \"Category\"]).size().reset_index(name=\"Transactions\")\n",
        "\n",
        "plt.figure(figsize=(10, 6))\n",
        "sns.barplot(data=category_discount, x=\"Discount\", y=\"Transactions\", hue=\"Category\", palette=\"viridis\")\n",
        "plt.xlabel(\"Discount Level\")\n",
        "plt.ylabel(\"Number of Transactions\")\n",
        "plt.title(\"Discount vs Transactions by Category\")\n",
        "plt.legend(title=\"Category\")\n",
        "plt.grid(True)\n",
        "plt.show()"
      ]
    },
    {
      "cell_type": "code",
      "execution_count": null,
      "metadata": {
        "id": "WuUG53uTg_oi"
      },
      "outputs": [],
      "source": [
        "print(category_discount)\n"
      ]
    },
    {
      "cell_type": "code",
      "execution_count": null,
      "metadata": {
        "id": "1-Qv4E84oUkd"
      },
      "outputs": [],
      "source": [
        "b2b_df = df[df['Customer_Type'] == 'B2B']\n",
        "\n",
        "discount_transactions = b2b_df.groupby('Discount').size().reset_index( name = \"Transactions\")\n",
        "\n",
        "plt.figure(figsize =(10,6))\n",
        "sns.lineplot(data= discount_transactions, x= \"Discount\", y = \"Transactions\", marker = \"o\", linewidth=2.5)\n",
        "plt.xlabel(\"Discount %\")\n",
        "plt.ylabel(\"Number of Transactions\")\n",
        "plt.title(\" Impact of Discount on Transactions (B2B)\")\n",
        "plt.grid(True)\n",
        "plt.show()\n"
      ]
    },
    {
      "cell_type": "code",
      "execution_count": null,
      "metadata": {
        "id": "9CXnzU0qZIA_"
      },
      "outputs": [],
      "source": [
        "\n",
        "\n",
        "b2b_discount_sales = b2b_df.groupby([\"Discount\", \"Category\"])[\"Total_Price\"].sum().reset_index()\n",
        "\n",
        "plt.figure(figsize=(10, 6))\n",
        "sns.barplot(data=b2b_discount_sales, x=\"Discount\", y=\"Total_Price\", hue=\"Category\", palette=\"viridis\")\n",
        "\n",
        "plt.xlabel(\"Discount Level\")\n",
        "plt.ylabel(\"Total Sales (€)\")\n",
        "plt.title(\"Category-wise Discount Impact on Sales (B2B)\")\n",
        "plt.legend(title=\"Category\")\n",
        "plt.grid(True)\n",
        "plt.tight_layout()\n",
        "plt.show()\n"
      ]
    },
    {
      "cell_type": "markdown",
      "metadata": {
        "id": "0x1eLiG4dG8H"
      },
      "source": [
        "**Interpretation of Category-wise Correlation between Discount & Sales**\n",
        "\n",
        "\n"
      ]
    },
    {
      "cell_type": "code",
      "execution_count": null,
      "metadata": {
        "id": "H21TIDi-cY11"
      },
      "outputs": [],
      "source": [
        "category_correlation = b2b_df.groupby('Category')[['Discount', 'Total_Price']].corr().iloc[0::2, -1]\n",
        "print(\"Category-wise correlation between Discount and Sales:\")\n",
        "print(category_correlation)"
      ]
    },
    {
      "cell_type": "code",
      "execution_count": null,
      "metadata": {
        "id": "pXow1jjTeo5l"
      },
      "outputs": [],
      "source": [
        "category_correlation = {\n",
        "    \"Alcoholic Beverages\": 0.210909,\n",
        "    \"Juices\": 0.463467,\n",
        "    \"Soft Drinks\": 0.381316,\n",
        "    \"Water\": 0.435590\n",
        "}\n",
        "corr_df = pd.DataFrame.from_dict(category_correlation, orient='index', columns=['Correlation'])\n",
        "\n",
        "plt.figure(figsize=(8, 5))\n",
        "sns.heatmap(corr_df, annot=True, cmap=\"coolwarm\", linewidths=0.5, fmt=\".2f\", vmin=0, vmax=1)\n",
        "plt.title(\"Category-wise Correlation Between Discount and Sales\")\n",
        "plt.xlabel(\"\")\n",
        "plt.ylabel(\"Category\")\n",
        "plt.show()"
      ]
    },
    {
      "cell_type": "code",
      "execution_count": null,
      "metadata": {
        "id": "IOnhWefnyN0L"
      },
      "outputs": [],
      "source": [
        "df['Category_vague'] = df['Category'].apply(lambda x: 'Alcoholic' if x == 'Alcoholic Beverages' else 'Non-Alcoholic')\n",
        "df.head(10)\n"
      ]
    },
    {
      "cell_type": "code",
      "execution_count": null,
      "metadata": {
        "id": "x74rMfoNguXc"
      },
      "outputs": [],
      "source": [
        "plt.figure(figsize=(10, 6))\n",
        "sns.scatterplot(data=df, x='Unit_Price', y='Total_Price', alpha=0.6)\n",
        "plt.xlabel(\"Unit Price\")\n",
        "plt.ylabel(\"Total Sales\")\n",
        "plt.title(\"Impact of Price on Sales\")\n",
        "plt.grid(True)\n",
        "plt.show()"
      ]
    },
    {
      "cell_type": "code",
      "execution_count": null,
      "metadata": {
        "id": "B6TdNPu9lckQ"
      },
      "outputs": [],
      "source": [
        "df['Price_Range'] = pd.cut(df['Unit_Price'], bins=[0, 5, 10, 20, 50, 100, df['Unit_Price'].max()],\n",
        "                           labels=['0-5', '5-10', '10-20', '20-50', '50-100', '100+'])\n",
        "\n",
        "price_range_sales = df.groupby('Price_Range')['Total_Price'].sum().reset_index()\n",
        "\n",
        "plt.figure(figsize=(10,6))\n",
        "sns.barplot(data=price_range_sales, x='Price_Range', y='Total_Price', palette='coolwarm')\n",
        "plt.xlabel(\"Price Range\")\n",
        "plt.ylabel(\"Total Sales\")\n",
        "plt.title(\"Sales Distribution by Price Range\")\n",
        "plt.grid(axis='y')\n",
        "plt.show()"
      ]
    },
    {
      "cell_type": "code",
      "execution_count": null,
      "metadata": {
        "id": "6DDdJPSDlfbz"
      },
      "outputs": [],
      "source": [
        "category_price_corr = df.groupby('Category')[['Unit_Price', 'Total_Price']].corr().iloc[0::2, -1]\n",
        "print(category_price_corr)"
      ]
    },
    {
      "cell_type": "code",
      "execution_count": null,
      "metadata": {
        "id": "RCWBLGQFf7LR"
      },
      "outputs": [],
      "source": [
        "price_sales_corr = df[['Unit_Price', 'Total_Price']].corr()\n",
        "print(price_sales_corr)"
      ]
    },
    {
      "cell_type": "code",
      "execution_count": null,
      "metadata": {
        "id": "u34DJlF172Pk"
      },
      "outputs": [],
      "source": [
        "df[\"Year\"] = df[\"Order_Date\"].dt.year\n",
        "df[\"Quarter\"] = df[\"Order_Date\"].dt.to_period(\"Q\")\n"
      ]
    },
    {
      "cell_type": "code",
      "execution_count": null,
      "metadata": {
        "id": "T4y4yVuq8SkX"
      },
      "outputs": [],
      "source": [
        "quarterly_sales = df.groupby([\"Year\", \"Quarter\", \"Region\"])[\"Total_Price\"].sum().reset_index()\n"
      ]
    },
    {
      "cell_type": "code",
      "execution_count": null,
      "metadata": {
        "id": "y5qeS4el8Uhq"
      },
      "outputs": [],
      "source": [
        "df[\"Quarter\"] = df[\"Quarter\"].astype(str)\n",
        "\n"
      ]
    },
    {
      "cell_type": "code",
      "execution_count": null,
      "metadata": {
        "colab": {
          "background_save": true
        },
        "id": "f0r_5_nL82I9"
      },
      "outputs": [],
      "source": [
        "df[\"Quarter\"] = pd.PeriodIndex(df[\"Quarter\"], freq=\"Q\")\n"
      ]
    },
    {
      "cell_type": "code",
      "execution_count": null,
      "metadata": {
        "colab": {
          "background_save": true
        },
        "id": "rM9BdJREtLaQ"
      },
      "outputs": [],
      "source": [
        "top_regions = [\"Saarland\", \"Hamburg\", \"Hessen\"]\n",
        "filtered_sales = quarterly_sales[quarterly_sales[\"Region\"].isin(top_regions)]\n"
      ]
    },
    {
      "cell_type": "code",
      "execution_count": null,
      "metadata": {
        "colab": {
          "background_save": true
        },
        "id": "OEyfJq23_DPV"
      },
      "outputs": [],
      "source": [
        "filtered_sales = filtered_sales.copy()  # Ensure modifications are safe\n",
        "filtered_sales[\"Quarter\"] = filtered_sales[\"Quarter\"].astype(str)  # Convert Period to string\n",
        "\n",
        "# Now, plot again\n",
        "plt.figure(figsize=(14, 6))\n",
        "sns.lineplot(data=filtered_sales, x=\"Quarter\", y=\"Total_Price\", hue=\"Region\", marker=\"o\", palette=\"tab10\")\n",
        "plt.xticks(rotation=45)  # Rotate x-axis labels for better readability\n",
        "plt.show()\n"
      ]
    },
    {
      "cell_type": "code",
      "execution_count": null,
      "metadata": {
        "colab": {
          "background_save": true
        },
        "id": "SxQ2DlPT_qFn"
      },
      "outputs": [],
      "source": [
        "# Sort data by Region and Quarter\n",
        "filtered_sales = filtered_sales.sort_values([\"Region\", \"Quarter\"])\n",
        "\n",
        "# Convert 'Quarter' to string if needed\n",
        "filtered_sales[\"Quarter\"] = filtered_sales[\"Quarter\"].astype(str)\n",
        "\n",
        "# Calculate QoQ Growth %\n",
        "filtered_sales[\"QoQ Growth (%)\"] = (\n",
        "    filtered_sales.groupby(\"Region\")[\"Total_Price\"]\n",
        "    .pct_change() * 100\n",
        ")\n",
        "\n",
        "# Display results\n",
        "filtered_sales[[\"Region\", \"Quarter\", \"Total_Price\", \"QoQ Growth (%)\"]]\n",
        "\n"
      ]
    },
    {
      "cell_type": "code",
      "execution_count": null,
      "metadata": {
        "colab": {
          "background_save": true
        },
        "id": "KCZHafIw_5Tz"
      },
      "outputs": [],
      "source": [
        "plt.figure(figsize=(14, 6))\n",
        "sns.lineplot(data=filtered_sales, x=\"Quarter\", y=\"QoQ Growth (%)\", hue=\"Region\", marker=\"o\", palette=\"tab10\")\n",
        "\n",
        "plt.axhline(y=0, color='gray', linestyle='--', linewidth=1)\n",
        "plt.xticks(rotation=45)\n",
        "plt.ylabel(\"QoQ Growth (%)\")\n",
        "plt.title(\"Quarter-over-Quarter (QoQ) Growth % by Region\")\n",
        "plt.grid(True)\n",
        "plt.legend(title=\"Region\")\n",
        "\n",
        "plt.show()\n"
      ]
    },
    {
      "cell_type": "code",
      "execution_count": null,
      "metadata": {
        "colab": {
          "background_save": true
        },
        "id": "Ya3g00dutmQ1"
      },
      "outputs": [],
      "source": [
        "top_regions = region_total_sales.head(3).index.tolist()\n",
        "bottom_regions = region_total_sales.tail(3).index.tolist()\n",
        "\n",
        "print(\"Top 3 Regions by Sales:\", top_regions)\n",
        "print(\"Bottom 3 Regions by Sales:\", bottom_regions)"
      ]
    },
    {
      "cell_type": "code",
      "execution_count": null,
      "metadata": {
        "colab": {
          "background_save": true
        },
        "id": "j8IwcNl1uDxl"
      },
      "outputs": [],
      "source": [
        "df['Order_Date'] = pd.to_datetime(df['Order_Date'])\n",
        "df['Quarter'] = df['Order_Date'].dt.to_period(\"Q\").astype(str)"
      ]
    },
    {
      "cell_type": "code",
      "execution_count": null,
      "metadata": {
        "colab": {
          "background_save": true
        },
        "id": "jwmYNRx7uTsr"
      },
      "outputs": [],
      "source": [
        "quarterly_sales = df.groupby([\"Year\", \"Quarter\", \"Region\"])[\"Total_Price\"].sum().reset_index()\n"
      ]
    },
    {
      "cell_type": "code",
      "execution_count": null,
      "metadata": {
        "colab": {
          "background_save": true
        },
        "id": "U-tuIIolua6K"
      },
      "outputs": [],
      "source": [
        "selected_regions = top_regions + bottom_regions\n",
        "\n",
        "filtered_trend = quarterly_sales[quarterly_sales[\"Region\"].isin(selected_regions)]"
      ]
    },
    {
      "cell_type": "code",
      "execution_count": null,
      "metadata": {
        "colab": {
          "background_save": true
        },
        "id": "JHBzSilgud8Q"
      },
      "outputs": [],
      "source": [
        "plt.figure(figsize=(14,6))\n",
        "sns.lineplot(data=filtered_trend, x=\"Quarter\", y=\"Total_Price\", hue=\"Region\", marker=\"o\", palette=\"tab10\")\n",
        "plt.xticks(rotation=45)\n",
        "plt.title(\"Quarterly Sales Trends: Top vs. Bottom Regions\")\n",
        "plt.xlabel(\"Quarter\")\n",
        "plt.ylabel(\"Total Sales (€)\")\n",
        "plt.grid(True)\n",
        "plt.legend(title=\"Region\")\n",
        "plt.tight_layout()\n",
        "plt.show()"
      ]
    },
    {
      "cell_type": "code",
      "execution_count": null,
      "metadata": {
        "colab": {
          "background_save": true
        },
        "id": "nh-uY7635Tt7"
      },
      "outputs": [],
      "source": [
        "plt.ticklabel_format(style='plain', axis='y')"
      ]
    },
    {
      "cell_type": "code",
      "execution_count": null,
      "metadata": {
        "colab": {
          "background_save": true
        },
        "id": "iNd2q3fq5XQx"
      },
      "outputs": [],
      "source": [
        "ax.yaxis.set_major_formatter(ticker.FuncFormatter(lambda x, pos: f'{int(x):,}'))"
      ]
    },
    {
      "cell_type": "code",
      "execution_count": null,
      "metadata": {
        "colab": {
          "background_save": true
        },
        "id": "GV0-wjXG5s1X"
      },
      "outputs": [],
      "source": [
        "ax.yaxis.set_major_formatter(ticker.StrMethodFormatter('{x:,.0f}'))\n"
      ]
    },
    {
      "cell_type": "code",
      "execution_count": null,
      "metadata": {
        "colab": {
          "background_save": true
        },
        "id": "WkNax_fZ0cDm"
      },
      "outputs": [],
      "source": [
        "Vcategory_wise_sales = df.groupby(\"Category_vague\")[\"Total_Price\"].sum().sort_values(ascending=False)\n",
        "\n",
        "plt.figure(figsize=(12,6))\n",
        "ax = Vcategory_wise_sales.plot(kind='bar', color='teal', edgecolor='black')\n",
        "plt.title('Total Sales by Category')\n",
        "plt.xlabel('Category')\n",
        "plt.ylabel('Total Sales')\n",
        "plt.xticks(rotation=45)\n",
        "\n",
        "ax.yaxis.set_major_formatter(ticker.StrMethodFormatter('{x:,.0f}'))\n",
        "plt.tight_layout()\n",
        "plt.show()"
      ]
    },
    {
      "cell_type": "code",
      "execution_count": null,
      "metadata": {
        "colab": {
          "background_save": true
        },
        "id": "FbHkpmZN2rvA"
      },
      "outputs": [],
      "source": [
        "bremen_sales = df[df['Region'] == 'Bremen'].groupby('Category_vague')['Total_Price'].sum().sort_values(ascending=False)\n",
        "\n",
        "plt.figure(figsize=(12,6))\n",
        "ax = bremen_sales.plot(kind='bar', color='teal', edgecolor='black')\n",
        "plt.title('Total Sales by Category in Bremen')\n",
        "plt.xlabel('Category')\n",
        "plt.ylabel('Total Sales')\n",
        "plt.xticks(rotation=45)\n",
        "\n",
        "ax.yaxis.set_major_formatter(ticker.StrMethodFormatter('{x:,.0f}'))\n",
        "plt.tight_layout()\n",
        "plt.show()\n"
      ]
    },
    {
      "cell_type": "code",
      "execution_count": null,
      "metadata": {
        "colab": {
          "background_save": true
        },
        "id": "ocptaPet8qbE"
      },
      "outputs": [],
      "source": [
        "\n",
        "top_sold_products = df.groupby(['Region', 'Product'])['Quantity'].sum().reset_index()\n",
        "top_sold_products = top_sold_products.loc[top_sold_products.groupby('Region')['Quantity'].idxmax()]\n",
        "\n",
        "top_sold_products = top_sold_products.merge(df[['Product', 'Category']], on='Product', how='left')\n",
        "\n",
        "top_sold_products = top_sold_products.drop_duplicates()\n",
        "print(top_sold_products.to_string(index=False))\n",
        "\n"
      ]
    },
    {
      "cell_type": "code",
      "execution_count": null,
      "metadata": {
        "colab": {
          "background_save": true
        },
        "id": "hu1mUqKbAC00"
      },
      "outputs": [],
      "source": [
        "top_sold_products = top_sold_products.sort_values(by='Quantity', ascending=False)\n",
        "\n",
        "# Set figure size\n",
        "plt.figure(figsize=(14, 6))\n",
        "\n",
        "palette = sns.color_palette(\"tab10\", n_colors=len(top_sold_products['Product'].unique()))\n",
        "\n",
        "# Create the bar plot\n",
        "ax = sns.barplot(data=top_sold_products, x='Region', y='Quantity', hue='Product', dodge=False, palette=palette)\n",
        "\n",
        "# Rotate x-axis labels\n",
        "plt.xticks(rotation=45, ha='right')\n",
        "\n",
        "# Format Y-axis to remove scientific notation\n",
        "plt.gca().yaxis.set_major_formatter(ticker.StrMethodFormatter(\"{x:,.0f}\"))\n",
        "\n",
        "# Add labels on top of bars\n",
        "for p in ax.patches:\n",
        "    ax.annotate(\n",
        "        f\"{p.get_height():,.0f}\",\n",
        "        (p.get_x() + p.get_width() / 2, p.get_height()),\n",
        "        ha=\"center\", va=\"bottom\", fontsize=10, color=\"black\", fontweight=\"bold\"\n",
        "    )\n",
        "\n",
        "# Add title and labels\n",
        "plt.title('Top Selling Product in Each Region')\n",
        "plt.xlabel('Region')\n",
        "plt.ylabel('Quantity Sold')\n",
        "\n",
        "# Display legend outside the plot for clarity\n",
        "plt.legend(title=\"Products\", bbox_to_anchor=(1.05, 1), loc=\"upper left\")\n",
        "\n",
        "# Show the plot\n",
        "plt.tight_layout()\n",
        "plt.show()"
      ]
    }
  ],
  "metadata": {
    "colab": {
      "provenance": [],
      "include_colab_link": true
    },
    "kernelspec": {
      "display_name": "Python 3",
      "name": "python3"
    },
    "language_info": {
      "name": "python"
    }
  },
  "nbformat": 4,
  "nbformat_minor": 0
}